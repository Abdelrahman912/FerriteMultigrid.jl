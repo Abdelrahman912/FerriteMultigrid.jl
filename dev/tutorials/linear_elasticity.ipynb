{
 "cells": [
  {
   "cell_type": "markdown",
   "source": [
    "# Linear Elasticity\n",
    "\n",
    "![](linear_elasticity.svg)\n",
    "\n",
    "*Figure 1*: Linear elastically deformed 1mm $\\times$ 1mm Ferrite logo.\n",
    "\n",
    "\n",
    "\n",
    "## Implementation"
   ],
   "metadata": {}
  },
  {
   "cell_type": "markdown",
   "source": [
    "The following code is based on the [Linear Elasticity](https://ferrite-fem.github.io/Ferrite.jl/stable/tutorials/linear_elasticity/) tutorial from the Ferrite.jl documentation, with some comments removed for brevity.\n",
    "There are two main modifications:\n",
    "\n",
    "1. Second-order `Lagrange` shape functions are used for field approximation: `ip = Lagrange{RefTriangle,2}()^2`.\n",
    "2. Four quadrature points are used to accommodate the second-order shape functions: `qr = QuadratureRule{RefTriangle}(4)`."
   ],
   "metadata": {}
  },
  {
   "outputs": [
    {
     "output_type": "execute_result",
     "data": {
      "text/plain": "linear_elasticity_2d (generic function with 1 method)"
     },
     "metadata": {},
     "execution_count": 1
    }
   ],
   "cell_type": "code",
   "source": [
    "using Ferrite, FerriteGmsh, SparseArrays\n",
    "using Downloads: download\n",
    "\n",
    "Emod = 200.0e3 # Young's modulus [MPa]\n",
    "ν = 0.3        # Poisson's ratio [-]\n",
    "\n",
    "Gmod = Emod / (2(1 + ν))  # Shear modulus\n",
    "Kmod = Emod / (3(1 - 2ν)) # Bulk modulus\n",
    "\n",
    "C = gradient(ϵ -> 2 * Gmod * dev(ϵ) + 3 * Kmod * vol(ϵ), zero(SymmetricTensor{2,2}))\n",
    "\n",
    "function assemble_external_forces!(f_ext, dh, facetset, facetvalues, prescribed_traction)\n",
    "    # Create a temporary array for the facet's local contributions to the external force vector\n",
    "    fe_ext = zeros(getnbasefunctions(facetvalues))\n",
    "    for facet in FacetIterator(dh, facetset)\n",
    "        # Update the facetvalues to the correct facet number\n",
    "        reinit!(facetvalues, facet)\n",
    "        # Reset the temporary array for the next facet\n",
    "        fill!(fe_ext, 0.0)\n",
    "        # Access the cell's coordinates\n",
    "        cell_coordinates = getcoordinates(facet)\n",
    "        for qp in 1:getnquadpoints(facetvalues)\n",
    "            # Calculate the global coordinate of the quadrature point.\n",
    "            x = spatial_coordinate(facetvalues, qp, cell_coordinates)\n",
    "            tₚ = prescribed_traction(x)\n",
    "            # Get the integration weight for the current quadrature point.\n",
    "            dΓ = getdetJdV(facetvalues, qp)\n",
    "            for i in 1:getnbasefunctions(facetvalues)\n",
    "                Nᵢ = shape_value(facetvalues, qp, i)\n",
    "                fe_ext[i] += tₚ ⋅ Nᵢ * dΓ\n",
    "            end\n",
    "        end\n",
    "        # Add the local contributions to the correct indices in the global external force vector\n",
    "        assemble!(f_ext, celldofs(facet), fe_ext)\n",
    "    end\n",
    "    return f_ext\n",
    "end\n",
    "\n",
    "function assemble_cell!(ke, cellvalues, C)\n",
    "    for q_point in 1:getnquadpoints(cellvalues)\n",
    "        # Get the integration weight for the quadrature point\n",
    "        dΩ = getdetJdV(cellvalues, q_point)\n",
    "        for i in 1:getnbasefunctions(cellvalues)\n",
    "            # Gradient of the test function\n",
    "            ∇Nᵢ = shape_gradient(cellvalues, q_point, i)\n",
    "            for j in 1:getnbasefunctions(cellvalues)\n",
    "                # Symmetric gradient of the trial function\n",
    "                ∇ˢʸᵐNⱼ = shape_symmetric_gradient(cellvalues, q_point, j)\n",
    "                ke[i, j] += (∇Nᵢ ⊡ C ⊡ ∇ˢʸᵐNⱼ) * dΩ\n",
    "            end\n",
    "        end\n",
    "    end\n",
    "    return ke\n",
    "end\n",
    "\n",
    "function assemble_global!(K, dh, cellvalues, C)\n",
    "    # Allocate the element stiffness matrix\n",
    "    n_basefuncs = getnbasefunctions(cellvalues)\n",
    "    ke = zeros(n_basefuncs, n_basefuncs)\n",
    "    # Create an assembler\n",
    "    assembler = start_assemble(K)\n",
    "    # Loop over all cells\n",
    "    for cell in CellIterator(dh)\n",
    "        # Update the shape function gradients based on the cell coordinates\n",
    "        reinit!(cellvalues, cell)\n",
    "        # Reset the element stiffness matrix\n",
    "        fill!(ke, 0.0)\n",
    "        # Compute element contribution\n",
    "        assemble_cell!(ke, cellvalues, C)\n",
    "        # Assemble ke into K\n",
    "        assemble!(assembler, celldofs(cell), ke)\n",
    "    end\n",
    "    return K\n",
    "end\n",
    "\n",
    "function linear_elasticity_2d(C)\n",
    "    logo_mesh = \"logo.geo\"\n",
    "    asset_url = \"https://raw.githubusercontent.com/Ferrite-FEM/Ferrite.jl/gh-pages/assets/\"\n",
    "    isfile(logo_mesh) || download(string(asset_url, logo_mesh), logo_mesh)\n",
    "\n",
    "    grid = togrid(logo_mesh)\n",
    "    addfacetset!(grid, \"top\", x -> x[2] ≈ 1.0) # facets for which x[2] ≈ 1.0 for all nodes\n",
    "    addfacetset!(grid, \"left\", x -> abs(x[1]) < 1.0e-6)\n",
    "    addfacetset!(grid, \"bottom\", x -> abs(x[2]) < 1.0e-6)\n",
    "\n",
    "    dim = 2\n",
    "    order = 2 # quadratic interpolation\n",
    "    ip = Lagrange{RefTriangle,order}()^dim # vector valued interpolation\n",
    "\n",
    "    qr = QuadratureRule{RefTriangle}(4) # 4 quadrature point\n",
    "    qr_face = FacetQuadratureRule{RefTriangle}(1)\n",
    "\n",
    "    cellvalues = CellValues(qr, ip)\n",
    "    facetvalues = FacetValues(qr_face, ip)\n",
    "\n",
    "    dh = DofHandler(grid)\n",
    "    add!(dh, :u, ip)\n",
    "    close!(dh)\n",
    "\n",
    "    ch = ConstraintHandler(dh)\n",
    "    add!(ch, Dirichlet(:u, getfacetset(grid, \"bottom\"), (x, t) -> 0.0, 2))\n",
    "    add!(ch, Dirichlet(:u, getfacetset(grid, \"left\"), (x, t) -> 0.0, 1))\n",
    "    close!(ch)\n",
    "\n",
    "    traction(x) = Vec(0.0, 20.0e3 * x[1])\n",
    "\n",
    "    A = allocate_matrix(dh)\n",
    "    assemble_global!(A, dh, cellvalues, C)\n",
    "\n",
    "    b = zeros(ndofs(dh))\n",
    "    assemble_external_forces!(b, dh, getfacetset(grid, \"top\"), facetvalues, traction)\n",
    "    apply!(A, b, ch)\n",
    "\n",
    "    return A, b, dh, cellvalues, ch\n",
    "end"
   ],
   "metadata": {},
   "execution_count": 1
  },
  {
   "cell_type": "markdown",
   "source": [
    "### Near Null Space (NNS)\n",
    "\n",
    "In multigrid methods for problems with vector-valued unknowns, such as linear elasticity,\n",
    "the near null space represents the low energy mode or the smooth error that needs to be captured\n",
    "in the coarser grid when using SA-AMG (Smoothed Aggregation Algebraic Multigrid), more on the topic\n",
    "can be found  in [schroder2010](@citet)."
   ],
   "metadata": {}
  },
  {
   "cell_type": "markdown",
   "source": [
    "For 2D linear elasticity problems, the rigid body modes are:\n",
    "1. Translation in the x-direction,\n",
    "2. Translation in the y-direction,\n",
    "3. Rotation about the z-axis (i.e., $x_3$): each point (x, y) is mapped to (-y, x).\n",
    "\n",
    "The function `create_nns` constructs the NNS matrix `B ∈ ℝ^{n × 3}`, where `n` is the number of degrees of freedom (DOFs)\n",
    "for the case of `p` = 1 (i.e., linear interpolation), because `B` is only relevant for AMG."
   ],
   "metadata": {}
  },
  {
   "outputs": [
    {
     "output_type": "execute_result",
     "data": {
      "text/plain": "create_nns (generic function with 1 method)"
     },
     "metadata": {},
     "execution_count": 2
    }
   ],
   "cell_type": "code",
   "source": [
    "function create_nns(dh)\n",
    "    ##Ndof = ndofs(dh)\n",
    "    grid = dh.grid\n",
    "    Ndof = 2 * (grid.nodes |> length) # nns at p = 1 for AMG\n",
    "    B = zeros(Float64, Ndof, 3)\n",
    "    B[1:2:end, 1] .= 1 # x - translation\n",
    "    B[2:2:end, 2] .= 1 # y - translation\n",
    "\n",
    "    # in-plane rotation (x,y) → (-y,x)\n",
    "    coords = reduce(hcat, grid.nodes .|> (n -> n.x |> collect))' # convert nodes to 2d array\n",
    "    y = coords[:, 2]\n",
    "    x = coords[:, 1]\n",
    "    B[1:2:end, 3] .= -y\n",
    "    B[2:2:end, 3] .= x\n",
    "    return B\n",
    "end"
   ],
   "metadata": {},
   "execution_count": 2
  },
  {
   "cell_type": "markdown",
   "source": [
    "### Setup the linear elasticity problem\n",
    "Load `FerriteMultigrid` to access the p-multigrid solver."
   ],
   "metadata": {}
  },
  {
   "outputs": [],
   "cell_type": "code",
   "source": [
    "using FerriteMultigrid"
   ],
   "metadata": {},
   "execution_count": 3
  },
  {
   "cell_type": "markdown",
   "source": [
    "Construct the linear elasticity problem with 2nd order polynomial shape functions."
   ],
   "metadata": {}
  },
  {
   "outputs": [
    {
     "name": "stdout",
     "output_type": "stream",
     "text": [
      "Info    : Reading 'logo.geo'...\n",
      "Info    : Done reading 'logo.geo'\n",
      "Info    : Meshing 1D...\n",
      "Info    : [  0%] Meshing curve 1 (Line)\n",
      "Info    : [ 10%] Meshing curve 2 (Line)\n",
      "Info    : [ 20%] Meshing curve 3 (Line)\n",
      "Info    : [ 20%] Meshing curve 4 (Line)\n",
      "Info    : [ 30%] Meshing curve 5 (Line)\n",
      "Info    : [ 30%] Meshing curve 6 (Line)\n",
      "Info    : [ 40%] Meshing curve 7 (Line)\n",
      "Info    : [ 40%] Meshing curve 8 (Line)\n",
      "Info    : [ 50%] Meshing curve 9 (Line)\n",
      "Info    : [ 60%] Meshing curve 10 (Line)\n",
      "Info    : [ 60%] Meshing curve 11 (Line)\n",
      "Info    : [ 70%] Meshing curve 12 (Line)\n",
      "Info    : [ 70%] Meshing curve 13 (Line)\n",
      "Info    : [ 80%] Meshing curve 14 (Line)\n",
      "Info    : [ 80%] Meshing curve 15 (Line)\n",
      "Info    : [ 90%] Meshing curve 16 (Line)\n",
      "Info    : [ 90%] Meshing curve 17 (Line)\n",
      "Info    : [100%] Meshing curve 18 (Line)\n",
      "Info    : Done meshing 1D (Wall 0.00108565s, CPU 0.001084s)\n",
      "Info    : Meshing 2D...\n",
      "Info    : [  0%] Meshing surface 1 (Plane, Frontal-Delaunay)\n",
      "Info    : [ 20%] Meshing surface 2 (Plane, Frontal-Delaunay)\n",
      "Info    : [ 40%] Meshing surface 3 (Plane, Frontal-Delaunay)\n",
      "Info    : [ 60%] Meshing surface 4 (Plane, Frontal-Delaunay)\n",
      "Info    : [ 70%] Meshing surface 5 (Plane, Frontal-Delaunay)\n",
      "Info    : [ 90%] Meshing surface 6 (Plane, Frontal-Delaunay)\n",
      "Info    : Done meshing 2D (Wall 0.00207327s, CPU 0.002071s)\n",
      "Info    : 104 nodes 245 elements\n"
     ]
    }
   ],
   "cell_type": "code",
   "source": [
    "A, b, dh, cellvalues, ch = linear_elasticity_2d(C);"
   ],
   "metadata": {},
   "execution_count": 4
  },
  {
   "cell_type": "markdown",
   "source": [
    "Construct the near null space (NNS) matrix"
   ],
   "metadata": {}
  },
  {
   "outputs": [
    {
     "output_type": "execute_result",
     "data": {
      "text/plain": "208×3 Matrix{Float64}:\n 1.0  0.0  -1.0\n 0.0  1.0   1.0\n 1.0  0.0  -0.379758\n 0.0  1.0   1.0\n 1.0  0.0  -0.454964\n 0.0  1.0   0.801535\n 1.0  0.0  -1.0\n 0.0  1.0   0.656107\n 1.0  0.0  -0.775246\n 0.0  1.0   0.600673\n ⋮         \n 0.0  1.0   0.567386\n 1.0  0.0  -0.487217\n 0.0  1.0   0.365932\n 1.0  0.0  -0.477795\n 0.0  1.0   0.677392\n 1.0  0.0  -0.534479\n 0.0  1.0   0.52256\n 1.0  0.0  -0.640261\n 0.0  1.0   0.473388"
     },
     "metadata": {},
     "execution_count": 5
    }
   ],
   "cell_type": "code",
   "source": [
    "B = create_nns(dh)"
   ],
   "metadata": {},
   "execution_count": 5
  },
  {
   "cell_type": "markdown",
   "source": [
    "> **Danger**\n",
    ">\n",
    "> Since NNS matrix is only relevant for AMG, and it is not used in the p-multigrid solver, therefore, `B` has to provided using linear field approximation (i.e., `p = 1`) when using AMG as the coarse solver, otherwise (e.g., using `Pinv` as the coarse solver), then we don't have to provide it."
   ],
   "metadata": {}
  },
  {
   "cell_type": "markdown",
   "source": [
    "Construct the finite element space $\\mathcal{V}_{h,p = 2}$"
   ],
   "metadata": {}
  },
  {
   "outputs": [
    {
     "output_type": "execute_result",
     "data": {
      "text/plain": "FESpace{Ferrite.DofHandler{2, Ferrite.Grid{2, Ferrite.Triangle, Float64}}, Ferrite.CellValues{Ferrite.FunctionValues{1, Ferrite.VectorizedInterpolation{2, Ferrite.RefTriangle, 2, Ferrite.Lagrange{Ferrite.RefTriangle, 2}}, Matrix{Tensors.Vec{2, Float64}}, Matrix{Tensors.Tensor{2, 2, Float64, 4}}, Matrix{Tensors.Tensor{2, 2, Float64, 4}}, Nothing, Nothing}, Ferrite.GeometryMapping{1, Ferrite.Lagrange{Ferrite.RefTriangle, 1}, Matrix{Float64}, Matrix{Tensors.Vec{2, Float64}}, Nothing}, Ferrite.QuadratureRule{Ferrite.RefTriangle, Vector{Float64}, Vector{Tensors.Vec{2, Float64}}}, Vector{Float64}}, Ferrite.ConstraintHandler{Ferrite.DofHandler{2, Ferrite.Grid{2, Ferrite.Triangle, Float64}}, Float64}}(Ferrite.DofHandler{2, Ferrite.Grid{2, Ferrite.Triangle, Float64}}(Ferrite.SubDofHandler{Ferrite.DofHandler{2, Ferrite.Grid{2, Ferrite.Triangle, Float64}}}[Ferrite.SubDofHandler{Ferrite.DofHandler{2, Ferrite.Grid{2, Ferrite.Triangle, Float64}}}(Ferrite.DofHandler{2, Ferrite.Grid{2, Ferrite.Triangle, Float64}}(#= circular reference @-3 =#), OrderedCollections.OrderedSet{Int64}([1, 2, 3, 4, 5, 6, 7, 8, 9, 10  …  165, 166, 167, 168, 169, 170, 171, 172, 173, 174]), [:u], Ferrite.Interpolation[Ferrite.VectorizedInterpolation{2, Ferrite.RefTriangle, 2, Ferrite.Lagrange{Ferrite.RefTriangle, 2}}(Ferrite.Lagrange{Ferrite.RefTriangle, 2}())], Int64[], 12)], [:u], [1, 2, 3, 4, 5, 6, 7, 8, 9, 10  …  241, 242, 681, 682, 705, 706, 755, 756, 685, 686], [1, 13, 25, 37, 49, 61, 73, 85, 97, 109  …  1969, 1981, 1993, 2005, 2017, 2029, 2041, 2053, 2065, 2077], [1, 1, 1, 1, 1, 1, 1, 1, 1, 1  …  1, 1, 1, 1, 1, 1, 1, 1, 1, 1], true, Ferrite.Grid{2, Ferrite.Triangle, Float64}(Ferrite.Triangle[Ferrite.Triangle((3, 20, 63)), Ferrite.Triangle((55, 22, 56)), Ferrite.Triangle((20, 57, 63)), Ferrite.Triangle((20, 14, 57)), Ferrite.Triangle((55, 56, 61)), Ferrite.Triangle((58, 55, 61)), Ferrite.Triangle((55, 58, 60)), Ferrite.Triangle((5, 22, 55)), Ferrite.Triangle((2, 14, 20)), Ferrite.Triangle((57, 56, 63))  …  Ferrite.Triangle((97, 22, 100)), Ferrite.Triangle((21, 97, 102)), Ferrite.Triangle((7, 94, 104)), Ferrite.Triangle((94, 52, 101)), Ferrite.Triangle((31, 7, 104)), Ferrite.Triangle((95, 99, 101)), Ferrite.Triangle((99, 94, 101)), Ferrite.Triangle((99, 96, 103)), Ferrite.Triangle((94, 99, 103)), Ferrite.Triangle((100, 31, 104))], Ferrite.Node{2, Float64}[Ferrite.Node{2, Float64}([1.0, 1.0]), Ferrite.Node{2, Float64}([1.0, 0.379757979263]), Ferrite.Node{2, Float64}([0.801534880751, 0.454963545532]), Ferrite.Node{2, Float64}([0.656107331955, 1.0]), Ferrite.Node{2, Float64}([0.600672553037, 0.775245709538]), Ferrite.Node{2, Float64}([0.0, 1.0]), Ferrite.Node{2, Float64}([0.392825178821, 0.672136259831]), Ferrite.Node{2, Float64}([1.0, 0.0]), Ferrite.Node{2, Float64}([0.547800422194, -0.0]), Ferrite.Node{2, Float64}([0.488710023938, 0.224380304618])  …  Ferrite.Node{2, Float64}([0.371815483395454, 0.387541210567491]), Ferrite.Node{2, Float64}([0.5769806418976112, 0.4322841106613628]), Ferrite.Node{2, Float64}([0.6165746595005666, 0.5544955814857399]), Ferrite.Node{2, Float64}([0.47736325015237235, 0.33970530481730987]), Ferrite.Node{2, Float64}([0.46406870923827526, 0.45073264476884783]), Ferrite.Node{2, Float64}([0.5673862832010109, 0.6502733177441277]), Ferrite.Node{2, Float64}([0.3659322703052846, 0.48721715390516906]), Ferrite.Node{2, Float64}([0.67739173818206, 0.47779490322723067]), Ferrite.Node{2, Float64}([0.5225603855864607, 0.5344788107726228]), Ferrite.Node{2, Float64}([0.473387537304908, 0.6402608858085923])], Dict{String, OrderedCollections.OrderedSet{Int64}}(\"4\" => OrderedCollections.OrderedSet{Int64}([114, 105, 110, 111, 92, 99, 98, 89, 106, 96  …  102, 93, 113, 97, 88, 104, 91, 87, 100, 101]), \"1\" => OrderedCollections.OrderedSet{Int64}([5, 16, 20, 12, 24, 28, 8, 17, 30, 1  …  33, 4, 13, 15, 2, 10, 18, 21, 26, 27]), \"5\" => OrderedCollections.OrderedSet{Int64}([140, 123, 122, 133, 137, 136, 117, 135, 121, 115  …  139, 128, 124, 129, 131, 120, 127, 116, 132, 134]), \"2\" => OrderedCollections.OrderedSet{Int64}([35, 52, 37, 53, 47, 41, 43, 45, 36, 44  …  39, 51, 46, 40, 48, 34, 50, 54, 38, 42]), \"6\" => OrderedCollections.OrderedSet{Int64}([158, 169, 173, 141, 148, 160, 154, 171, 145, 146  …  168, 174, 163, 147, 165, 144, 142, 167, 157, 150]), \"3\" => OrderedCollections.OrderedSet{Int64}([78, 56, 55, 79, 81, 58, 60, 72, 75, 83  …  71, 66, 76, 57, 59, 70, 65, 63, 86, 62])), Dict{String, OrderedCollections.OrderedSet{Int64}}(), Dict{String, OrderedCollections.OrderedSet{Ferrite.FacetIndex}}(\"left\" => OrderedCollections.OrderedSet{Ferrite.FacetIndex}([Ferrite.FacetIndex((96, 1)), Ferrite.FacetIndex((101, 1)), Ferrite.FacetIndex((108, 1)), Ferrite.FacetIndex((115, 2)), Ferrite.FacetIndex((118, 2)), Ferrite.FacetIndex((122, 1)), Ferrite.FacetIndex((125, 1)), Ferrite.FacetIndex((127, 1))]), \"bottom\" => OrderedCollections.OrderedSet{Ferrite.FacetIndex}([Ferrite.FacetIndex((69, 1)), Ferrite.FacetIndex((73, 1)), Ferrite.FacetIndex((78, 1)), Ferrite.FacetIndex((79, 1)), Ferrite.FacetIndex((90, 3)), Ferrite.FacetIndex((104, 1)), Ferrite.FacetIndex((106, 1)), Ferrite.FacetIndex((107, 1))]), \"top\" => OrderedCollections.OrderedSet{Ferrite.FacetIndex}([Ferrite.FacetIndex((21, 1)), Ferrite.FacetIndex((23, 1)), Ferrite.FacetIndex((28, 1)), Ferrite.FacetIndex((35, 1)), Ferrite.FacetIndex((36, 2)), Ferrite.FacetIndex((42, 3)), Ferrite.FacetIndex((43, 3)), Ferrite.FacetIndex((47, 3))])), Dict{String, OrderedCollections.OrderedSet{Ferrite.VertexIndex}}()), 762), Ferrite.CellValues{Ferrite.FunctionValues{1, Ferrite.VectorizedInterpolation{2, Ferrite.RefTriangle, 2, Ferrite.Lagrange{Ferrite.RefTriangle, 2}}, Matrix{Tensors.Vec{2, Float64}}, Matrix{Tensors.Tensor{2, 2, Float64, 4}}, Matrix{Tensors.Tensor{2, 2, Float64, 4}}, Nothing, Nothing}, Ferrite.GeometryMapping{1, Ferrite.Lagrange{Ferrite.RefTriangle, 1}, Matrix{Float64}, Matrix{Tensors.Vec{2, Float64}}, Nothing}, Ferrite.QuadratureRule{Ferrite.RefTriangle, Vector{Float64}, Vector{Tensors.Vec{2, Float64}}}, Vector{Float64}}(Ferrite.FunctionValues{1, Ferrite.VectorizedInterpolation{2, Ferrite.RefTriangle, 2, Ferrite.Lagrange{Ferrite.RefTriangle, 2}}, Matrix{Tensors.Vec{2, Float64}}, Matrix{Tensors.Tensor{2, 2, Float64, 4}}, Matrix{Tensors.Tensor{2, 2, Float64, 4}}, Nothing, Nothing}(Ferrite.VectorizedInterpolation{2, Ferrite.RefTriangle, 2, Ferrite.Lagrange{Ferrite.RefTriangle, 2}}(Ferrite.Lagrange{Ferrite.RefTriangle, 2}()), Tensors.Vec{2, Float64}[[-0.04820837781550805, 0.0] [-0.04820837781550805, 0.0] … [-0.07480380774819603, 0.0] [0.5176323419876757, 0.0]; [0.0, -0.04820837781550805] [0.0, -0.04820837781550805] … [0.0, -0.07480380774819603] [0.0, 0.5176323419876757]; … ; [0.1928335112620322, 0.0] [0.7954802262009061, 0.0] … [0.03354481152314795, 0.0] [0.2992152309927843, 0.0]; [0.0, 0.1928335112620322] [0.0, 0.7954802262009061] … [0.0, 0.03354481152314795] [0.0, 0.2992152309927843]], Tensors.Vec{2, Float64}[[-0.04820837781550805, 0.0] [-0.04820837781550805, 0.0] … [-0.07480380774819603, 0.0] [0.5176323419876757, 0.0]; [0.0, -0.04820837781550805] [0.0, -0.04820837781550805] … [0.0, -0.07480380774819603] [0.0, 0.5176323419876757]; … ; [0.1928335112620322, 0.0] [0.7954802262009061, 0.0] … [0.03354481152314795, 0.0] [0.2992152309927843, 0.0]; [0.0, 0.1928335112620322] [0.0, 0.7954802262009061] … [0.0, 0.03354481152314795] [0.0, 0.2992152309927843]], Tensors.Tensor{2, 2, Float64, 4}[[8.594688477838039 -2.4066055855083404; 0.0 0.0] [8.594688477838039 -2.4066055855083404; 0.0 0.0] … [-6.948780702511049 1.9457336347043792; 0.0 0.0] [24.863056007279276 -6.961924171447853; 0.0 0.0]; [0.0 0.0; 8.594688477838039 -2.4066055855083404] [0.0 0.0; 8.594688477838039 -2.4066055855083404] … [0.0 0.0; -6.948780702511049 1.9457336347043792] [0.0 0.0; 24.863056007279276 -6.961924171447853]; … ; [-12.471156596172827 -17.888642063253705; 0.0 0.0] [2.3474142350836686 -22.038001917739507; 0.0 0.0] … [0.4820451499822285 -4.5255378368976835; 0.0 0.0] [-27.512058462374867 -31.45953424974912; 0.0 0.0]; [0.0 0.0; -12.471156596172827 -17.888642063253705] [0.0 0.0; 2.3474142350836686 -22.038001917739507] … [0.0 0.0; 0.4820451499822285 -4.5255378368976835] [0.0 0.0; -27.512058462374867 -31.45953424974912]], Tensors.Tensor{2, 2, Float64, 4}[[0.78379396366388 0.0; 0.0 0.0] [0.78379396366388 0.0; 0.0 0.0] … [-0.6336951459609201 0.0; 0.0 0.0] [2.26739029192184 0.0; 0.0 0.0]; [0.0 0.0; 0.78379396366388 0.0] [0.0 0.0; 0.78379396366388 0.0] … [0.0 0.0; -0.6336951459609201 0.0] [0.0 0.0; 2.26739029192184 0.0]; … ; [-1.35138189099164 -1.78379396366388; 0.0 0.0] [-3.9968028886505635e-14 -1.78379396366388; 0.0 0.0] … [3.3306690738754696e-16 -0.36630485403908; 0.0 0.0] [-2.9010854378827595 -3.26739029192184; 0.0 0.0]; [0.0 0.0; -1.35138189099164 -1.78379396366388] [0.0 0.0; -3.9968028886505635e-14 -1.78379396366388] … [0.0 0.0; 3.3306690738754696e-16 -0.36630485403908] [0.0 0.0; -2.9010854378827595 -3.26739029192184]], nothing, nothing), Ferrite.GeometryMapping{1, Ferrite.Lagrange{Ferrite.RefTriangle, 1}, Matrix{Float64}, Matrix{Tensors.Vec{2, Float64}}, Nothing}(Ferrite.Lagrange{Ferrite.RefTriangle, 1}(), [0.44594849091597 0.44594849091597 … 0.09157621350977 0.81684757298046; 0.44594849091597 0.10810301816807 … 0.81684757298046 0.09157621350977; 0.10810301816806 0.44594849091596 … 0.09157621350977008 0.09157621350977005], Tensors.Vec{2, Float64}[[1.0, 0.0] [1.0, 0.0] … [1.0, 0.0] [1.0, 0.0]; [0.0, 1.0] [0.0, 1.0] … [0.0, 1.0] [0.0, 1.0]; [-1.0, -1.0] [-1.0, -1.0] … [-1.0, -1.0] [-1.0, -1.0]], nothing), Ferrite.QuadratureRule{Ferrite.RefTriangle, Vector{Float64}, Vector{Tensors.Vec{2, Float64}}}([0.111690794839005, 0.111690794839005, 0.111690794839005, 0.05497587182766, 0.05497587182766, 0.05497587182766], Tensors.Vec{2, Float64}[[0.44594849091597, 0.44594849091597], [0.44594849091597, 0.10810301816807], [0.10810301816807, 0.44594849091597], [0.09157621350977, 0.09157621350977], [0.09157621350977, 0.81684757298046], [0.81684757298046, 0.09157621350977]]), [0.0008497905835494427, 0.0008497905835494427, 0.0008497905835494427, 0.00041827957504382953, 0.00041827957504382953, 0.00041827957504382953]), Ferrite.ConstraintHandler{Ferrite.DofHandler{2, Ferrite.Grid{2, Ferrite.Triangle, Float64}}, Float64}(Ferrite.Dirichlet[Ferrite.Dirichlet(Main.var\"##279\".var\"#6#11\"(), OrderedCollections.OrderedSet{Ferrite.FacetIndex}(Ferrite.FacetIndex[Ferrite.FacetIndex((69, 1)), Ferrite.FacetIndex((73, 1)), Ferrite.FacetIndex((78, 1)), Ferrite.FacetIndex((79, 1)), Ferrite.FacetIndex((90, 3)), Ferrite.FacetIndex((104, 1)), Ferrite.FacetIndex((106, 1)), Ferrite.FacetIndex((107, 1))]), :u, [2], [2, 4, 8, 4, 6, 10, 6, 2, 12], [1, 4, 7, 10]), Ferrite.Dirichlet(Main.var\"##279\".var\"#7#12\"(), OrderedCollections.OrderedSet{Ferrite.FacetIndex}(Ferrite.FacetIndex[Ferrite.FacetIndex((96, 1)), Ferrite.FacetIndex((101, 1)), Ferrite.FacetIndex((108, 1)), Ferrite.FacetIndex((115, 2)), Ferrite.FacetIndex((118, 2)), Ferrite.FacetIndex((122, 1)), Ferrite.FacetIndex((125, 1)), Ferrite.FacetIndex((127, 1))]), :u, [1], [1, 3, 7, 3, 5, 9, 5, 1, 11], [1, 4, 7, 10])], Ferrite.ProjectedDirichlet[], [177, 354, 356, 358, 370, 374, 382, 392, 400, 404  …  539, 547, 551, 561, 563, 567, 591, 593, 609, 619], [1, 2, 3, 4, 5, 6, 7, 8, 9, 10  …  753, 754, 755, 756, 757, 758, 759, 760, 761, 762], [0.0, 0.0, 0.0, 0.0, 0.0, 0.0, 0.0, 0.0, 0.0, 0.0  …  0.0, 0.0, 0.0, 0.0, 0.0, 0.0, 0.0, 0.0, 0.0, 0.0], Union{Nothing, Float64}[nothing, nothing, nothing, nothing, nothing, nothing, nothing, nothing, nothing, nothing  …  nothing, nothing, nothing, nothing, nothing, nothing, nothing, nothing, nothing, nothing], Union{Nothing, Vector{Pair{Int64, Float64}}}[nothing, nothing, nothing, nothing, nothing, nothing, nothing, nothing, nothing, nothing  …  nothing, nothing, nothing, nothing, nothing, nothing, nothing, nothing, nothing, nothing], Dict(479 => 14, 499 => 17, 392 => 8, 370 => 5, 514 => 20, 551 => 27, 177 => 1, 561 => 28, 563 => 29, 374 => 6…), Ferrite.BCValues{Float64}[Ferrite.BCValues{Float64}([1.0 0.0 0.5; 0.0 1.0 0.5; 0.0 0.0 0.0;;; 0.0 0.0 0.0; 1.0 0.0 0.5; 0.0 1.0 0.5;;; 0.0 1.0 0.5; 0.0 0.0 0.0; 1.0 0.0 0.5], [3, 3, 3], 1), Ferrite.BCValues{Float64}([1.0 0.0 0.5; 0.0 1.0 0.5; 0.0 0.0 0.0;;; 0.0 0.0 0.0; 1.0 0.0 0.5; 0.0 1.0 0.5;;; 0.0 1.0 0.5; 0.0 0.0 0.0; 1.0 0.0 0.5], [3, 3, 3], 1)], Ferrite.DofHandler{2, Ferrite.Grid{2, Ferrite.Triangle, Float64}}(Ferrite.SubDofHandler{Ferrite.DofHandler{2, Ferrite.Grid{2, Ferrite.Triangle, Float64}}}[Ferrite.SubDofHandler{Ferrite.DofHandler{2, Ferrite.Grid{2, Ferrite.Triangle, Float64}}}(Ferrite.DofHandler{2, Ferrite.Grid{2, Ferrite.Triangle, Float64}}(#= circular reference @-3 =#), OrderedCollections.OrderedSet{Int64}([1, 2, 3, 4, 5, 6, 7, 8, 9, 10  …  165, 166, 167, 168, 169, 170, 171, 172, 173, 174]), [:u], Ferrite.Interpolation[Ferrite.VectorizedInterpolation{2, Ferrite.RefTriangle, 2, Ferrite.Lagrange{Ferrite.RefTriangle, 2}}(Ferrite.Lagrange{Ferrite.RefTriangle, 2}())], Int64[], 12)], [:u], [1, 2, 3, 4, 5, 6, 7, 8, 9, 10  …  241, 242, 681, 682, 705, 706, 755, 756, 685, 686], [1, 13, 25, 37, 49, 61, 73, 85, 97, 109  …  1969, 1981, 1993, 2005, 2017, 2029, 2041, 2053, 2065, 2077], [1, 1, 1, 1, 1, 1, 1, 1, 1, 1  …  1, 1, 1, 1, 1, 1, 1, 1, 1, 1], true, Ferrite.Grid{2, Ferrite.Triangle, Float64}(Ferrite.Triangle[Ferrite.Triangle((3, 20, 63)), Ferrite.Triangle((55, 22, 56)), Ferrite.Triangle((20, 57, 63)), Ferrite.Triangle((20, 14, 57)), Ferrite.Triangle((55, 56, 61)), Ferrite.Triangle((58, 55, 61)), Ferrite.Triangle((55, 58, 60)), Ferrite.Triangle((5, 22, 55)), Ferrite.Triangle((2, 14, 20)), Ferrite.Triangle((57, 56, 63))  …  Ferrite.Triangle((97, 22, 100)), Ferrite.Triangle((21, 97, 102)), Ferrite.Triangle((7, 94, 104)), Ferrite.Triangle((94, 52, 101)), Ferrite.Triangle((31, 7, 104)), Ferrite.Triangle((95, 99, 101)), Ferrite.Triangle((99, 94, 101)), Ferrite.Triangle((99, 96, 103)), Ferrite.Triangle((94, 99, 103)), Ferrite.Triangle((100, 31, 104))], Ferrite.Node{2, Float64}[Ferrite.Node{2, Float64}([1.0, 1.0]), Ferrite.Node{2, Float64}([1.0, 0.379757979263]), Ferrite.Node{2, Float64}([0.801534880751, 0.454963545532]), Ferrite.Node{2, Float64}([0.656107331955, 1.0]), Ferrite.Node{2, Float64}([0.600672553037, 0.775245709538]), Ferrite.Node{2, Float64}([0.0, 1.0]), Ferrite.Node{2, Float64}([0.392825178821, 0.672136259831]), Ferrite.Node{2, Float64}([1.0, 0.0]), Ferrite.Node{2, Float64}([0.547800422194, -0.0]), Ferrite.Node{2, Float64}([0.488710023938, 0.224380304618])  …  Ferrite.Node{2, Float64}([0.371815483395454, 0.387541210567491]), Ferrite.Node{2, Float64}([0.5769806418976112, 0.4322841106613628]), Ferrite.Node{2, Float64}([0.6165746595005666, 0.5544955814857399]), Ferrite.Node{2, Float64}([0.47736325015237235, 0.33970530481730987]), Ferrite.Node{2, Float64}([0.46406870923827526, 0.45073264476884783]), Ferrite.Node{2, Float64}([0.5673862832010109, 0.6502733177441277]), Ferrite.Node{2, Float64}([0.3659322703052846, 0.48721715390516906]), Ferrite.Node{2, Float64}([0.67739173818206, 0.47779490322723067]), Ferrite.Node{2, Float64}([0.5225603855864607, 0.5344788107726228]), Ferrite.Node{2, Float64}([0.473387537304908, 0.6402608858085923])], Dict{String, OrderedCollections.OrderedSet{Int64}}(\"4\" => OrderedCollections.OrderedSet{Int64}([114, 105, 110, 111, 92, 99, 98, 89, 106, 96  …  102, 93, 113, 97, 88, 104, 91, 87, 100, 101]), \"1\" => OrderedCollections.OrderedSet{Int64}([5, 16, 20, 12, 24, 28, 8, 17, 30, 1  …  33, 4, 13, 15, 2, 10, 18, 21, 26, 27]), \"5\" => OrderedCollections.OrderedSet{Int64}([140, 123, 122, 133, 137, 136, 117, 135, 121, 115  …  139, 128, 124, 129, 131, 120, 127, 116, 132, 134]), \"2\" => OrderedCollections.OrderedSet{Int64}([35, 52, 37, 53, 47, 41, 43, 45, 36, 44  …  39, 51, 46, 40, 48, 34, 50, 54, 38, 42]), \"6\" => OrderedCollections.OrderedSet{Int64}([158, 169, 173, 141, 148, 160, 154, 171, 145, 146  …  168, 174, 163, 147, 165, 144, 142, 167, 157, 150]), \"3\" => OrderedCollections.OrderedSet{Int64}([78, 56, 55, 79, 81, 58, 60, 72, 75, 83  …  71, 66, 76, 57, 59, 70, 65, 63, 86, 62])), Dict{String, OrderedCollections.OrderedSet{Int64}}(), Dict{String, OrderedCollections.OrderedSet{Ferrite.FacetIndex}}(\"left\" => OrderedCollections.OrderedSet{Ferrite.FacetIndex}([Ferrite.FacetIndex((96, 1)), Ferrite.FacetIndex((101, 1)), Ferrite.FacetIndex((108, 1)), Ferrite.FacetIndex((115, 2)), Ferrite.FacetIndex((118, 2)), Ferrite.FacetIndex((122, 1)), Ferrite.FacetIndex((125, 1)), Ferrite.FacetIndex((127, 1))]), \"bottom\" => OrderedCollections.OrderedSet{Ferrite.FacetIndex}([Ferrite.FacetIndex((69, 1)), Ferrite.FacetIndex((73, 1)), Ferrite.FacetIndex((78, 1)), Ferrite.FacetIndex((79, 1)), Ferrite.FacetIndex((90, 3)), Ferrite.FacetIndex((104, 1)), Ferrite.FacetIndex((106, 1)), Ferrite.FacetIndex((107, 1))]), \"top\" => OrderedCollections.OrderedSet{Ferrite.FacetIndex}([Ferrite.FacetIndex((21, 1)), Ferrite.FacetIndex((23, 1)), Ferrite.FacetIndex((28, 1)), Ferrite.FacetIndex((35, 1)), Ferrite.FacetIndex((36, 2)), Ferrite.FacetIndex((42, 3)), Ferrite.FacetIndex((43, 3)), Ferrite.FacetIndex((47, 3))])), Dict{String, OrderedCollections.OrderedSet{Ferrite.VertexIndex}}()), 762), true))"
     },
     "metadata": {},
     "execution_count": 6
    }
   ],
   "cell_type": "code",
   "source": [
    "fe_space = FESpace(dh, cellvalues, ch)"
   ],
   "metadata": {},
   "execution_count": 6
  },
  {
   "cell_type": "markdown",
   "source": [
    "### P-multigrid Configuration"
   ],
   "metadata": {}
  },
  {
   "cell_type": "markdown",
   "source": [
    "#### 1. Galerkin Coarsening Strategy"
   ],
   "metadata": {}
  },
  {
   "outputs": [
    {
     "output_type": "execute_result",
     "data": {
      "text/plain": "([-0.010066052417735043, 0.027797092959891082, -0.01240874414390502, 0.027640763158586292, -0.011854385123482435, 0.03365190209634847, -0.011198274908231555, 0.02783032460427619, -0.012028337125774731, 0.030805535642147414  …  -0.002718167122881313, 0.018354231517249135, -0.006543360153482845, 0.028078201021824636, -0.0025044709085162626, 0.01695653579607672, -0.0032230431473498503, 0.01922965599077098, -0.003825764715161167, 0.020257286724516228], [3980.227721655242, 455.14707317023976, 83.10562617425046, 19.830089514541793, 5.472289795751415, 1.6740301037733865, 0.5591426284601044, 0.20049948415025493, 0.07549461363046683, 0.029266726620580375, 0.011527948122701805, 0.004579028070799461, 0.0018268659786891135, 0.0007305725473577155, 0.0002925414805076431, 0.00011723074201158901, 4.7000082133767856e-5])"
     },
     "metadata": {},
     "execution_count": 7
    }
   ],
   "cell_type": "code",
   "source": [
    "config_gal = pmultigrid_config(coarse_strategy = Galerkin())\n",
    "x_gal, res_gal = solve(A, b,fe_space, config_gal;B = B, log=true, rtol = 1e-10)"
   ],
   "metadata": {},
   "execution_count": 7
  },
  {
   "cell_type": "markdown",
   "source": [
    "#### 2. Rediscretization Coarsening Strategy"
   ],
   "metadata": {}
  },
  {
   "outputs": [
    {
     "output_type": "execute_result",
     "data": {
      "text/plain": "([-0.01006605241774941, 0.027797092959884813, -0.012408744143935217, 0.027640763158565375, -0.011854385123504447, 0.0336519020963316, -0.011198274908250067, 0.027830324604262383, -0.012028337125788498, 0.03080553564213324  …  -0.0027181671228574743, 0.01835423151724516, -0.00654336015361581, 0.028078201022162425, -0.0025044709085287322, 0.016956535796113524, -0.0032230431473469004, 0.019229655990823005, -0.003825764715173804, 0.020257286724577155], [3980.227721655242, 457.06819374818394, 83.22542839601425, 19.868450689341543, 5.501109849713366, 1.6926739908520694, 0.5693868243804461, 0.20550627263045834, 0.07776351831307342, 0.03024997140091354, 0.01194347964883253, 0.004752219743190657, 0.0018984979075725849, 0.0007600703281681786, 0.0003046574923322057, 0.0001221995027470287, 4.9035686222845414e-5])"
     },
     "metadata": {},
     "execution_count": 8
    }
   ],
   "cell_type": "code",
   "source": [
    "# Rediscretization Coarsening Strategy\n",
    "config_red = pmultigrid_config(coarse_strategy = Rediscretization(LinearElasticityMultigrid(C)))\n",
    "x_red, res_red = solve(A, b, fe_space, config_red; B = B, log=true, rtol = 1e-10)"
   ],
   "metadata": {},
   "execution_count": 8
  },
  {
   "cell_type": "markdown",
   "source": [
    "### Test the solution"
   ],
   "metadata": {}
  },
  {
   "outputs": [
    {
     "name": "stdout",
     "output_type": "stream",
     "text": [
      "Final residual with Galerkin coarsening: 4.7000082133767856e-5\n",
      "Final residual with Rediscretization coarsening: 4.9035686222845414e-5\n",
      "Test Summary:             | Pass  Total  Time\n",
      "Linear Elasticity Example |    2      2  0.5s\n"
     ]
    },
    {
     "output_type": "execute_result",
     "data": {
      "text/plain": "Test.DefaultTestSet(\"Linear Elasticity Example\", Any[], 2, false, false, true, 1.75313421542477e9, 1.753134215934008e9, false, \"/home/runner/work/FerriteMultigrid.jl/FerriteMultigrid.jl/docs/src/tutorials/linear_elasticity.ipynb\")"
     },
     "metadata": {},
     "execution_count": 9
    }
   ],
   "cell_type": "code",
   "source": [
    "using Test\n",
    "@testset \"Linear Elasticity Example\" begin\n",
    "    println(\"Final residual with Galerkin coarsening: \", res_gal[end])\n",
    "    @test A * x_gal ≈ b\n",
    "    println(\"Final residual with Rediscretization coarsening: \", res_red[end])\n",
    "    @test A * x_red ≈ b\n",
    "end"
   ],
   "metadata": {},
   "execution_count": 9
  },
  {
   "cell_type": "markdown",
   "source": [
    "---\n",
    "\n",
    "*This notebook was generated using [Literate.jl](https://github.com/fredrikekre/Literate.jl).*"
   ],
   "metadata": {}
  }
 ],
 "nbformat_minor": 3,
 "metadata": {
  "language_info": {
   "file_extension": ".jl",
   "mimetype": "application/julia",
   "name": "julia",
   "version": "1.11.6"
  },
  "kernelspec": {
   "name": "julia-1.11",
   "display_name": "Julia 1.11.6",
   "language": "julia"
  }
 },
 "nbformat": 4
}
